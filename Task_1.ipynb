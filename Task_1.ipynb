{
  "nbformat": 4,
  "nbformat_minor": 0,
  "metadata": {
    "colab": {
      "provenance": []
    },
    "kernelspec": {
      "name": "python3",
      "display_name": "Python 3"
    },
    "language_info": {
      "name": "python"
    }
  },
  "cells": [
    {
      "cell_type": "markdown",
      "source": [
        "# Main Flow Services"
      ],
      "metadata": {
        "id": "7e-nnWtsotVM"
      }
    },
    {
      "cell_type": "markdown",
      "source": [
        "#Task-1: Understanding Python Data Types\n",
        "\n",
        "**Description:** This task involves understanding the basic data types in Python such as lists, dictionaries, and sets. Write a Python program to create a list, a dictionary, and a set. Perform basic operations like adding, removing, and modifying elements."
      ],
      "metadata": {
        "id": "zpP-lUMqo0Py"
      }
    },
    {
      "cell_type": "markdown",
      "source": [
        "# Lists & List Operations\n"
      ],
      "metadata": {
        "id": "NwdEVLe2pKmy"
      }
    },
    {
      "cell_type": "code",
      "source": [
        "#creating a list\n",
        "vpk=[110,63,149,134,26,370]\n",
        "\n",
        "#adding an elements to the list\n",
        "vpk.append(16)\n",
        "\n",
        "#removing an element from the list\n",
        "vpk.remove(26)\n",
        "\n",
        "#modifying an element in the list\n",
        "vpk[3]=2\n",
        "\n",
        "#print the update list\n",
        "print(\"Updated List:\",vpk)"
      ],
      "metadata": {
        "colab": {
          "base_uri": "https://localhost:8080/"
        },
        "id": "DJqlDmURpH-t",
        "outputId": "1e04aa28-1f5f-455e-b2ea-7aa1f8b53cfc"
      },
      "execution_count": 3,
      "outputs": [
        {
          "output_type": "stream",
          "name": "stdout",
          "text": [
            "Updated List: [110, 63, 149, 2, 370, 16]\n"
          ]
        }
      ]
    },
    {
      "cell_type": "markdown",
      "source": [
        "# Dictionary and Dictionary Operations"
      ],
      "metadata": {
        "id": "UzMYU9W3qHyV"
      }
    },
    {
      "cell_type": "code",
      "source": [
        "#creating dictionary\n",
        "praveen={'fruit' : 'Mango', 'Quantity': '4', 'Taste':'Good'}\n",
        "\n",
        "#adding\n",
        "praveen['Rate']=20\n",
        "\n",
        "#removing\n",
        "del praveen['Taste']\n",
        "\n",
        "#modifying\n",
        "praveen['fruit']= 'apple'\n",
        "\n",
        "#print updated Dictionary\n",
        "print('Updated Dictionary:',praveen)"
      ],
      "metadata": {
        "colab": {
          "base_uri": "https://localhost:8080/"
        },
        "id": "s_UUjYdQqNJS",
        "outputId": "d04d93e1-1e29-4dec-9cc1-912815dd70b7"
      },
      "execution_count": 2,
      "outputs": [
        {
          "output_type": "stream",
          "name": "stdout",
          "text": [
            "Updated Dictionary: {'fruit': 'apple', 'Quantity': '4', 'Rate': 20}\n"
          ]
        }
      ]
    },
    {
      "cell_type": "markdown",
      "source": [
        "# Sets & Set Operations"
      ],
      "metadata": {
        "id": "NaIF2OM1rh4M"
      }
    },
    {
      "cell_type": "code",
      "source": [
        "#creating a set\n",
        "praveen={'apple', 'mango', 'banana', 'Pineapple', 'orange'}\n",
        "\n",
        "#adding\n",
        "praveen.add('watermelon')\n",
        "\n",
        "#removing\n",
        "praveen.remove('Pineapple')\n",
        "\n",
        "#modifying\n",
        "praveen.discard('orange')\n",
        "praveen.add('papaya')\n",
        "\n",
        "#print the upadted set\n",
        "print('Updated Set:',praveen)"
      ],
      "metadata": {
        "colab": {
          "base_uri": "https://localhost:8080/"
        },
        "id": "D3aw69qPrnRP",
        "outputId": "e1928327-4fe0-420c-d7df-df85a5d01ab6"
      },
      "execution_count": 4,
      "outputs": [
        {
          "output_type": "stream",
          "name": "stdout",
          "text": [
            "Updated Set: {'watermelon', 'mango', 'papaya', 'banana', 'apple'}\n"
          ]
        }
      ]
    }
  ]
}